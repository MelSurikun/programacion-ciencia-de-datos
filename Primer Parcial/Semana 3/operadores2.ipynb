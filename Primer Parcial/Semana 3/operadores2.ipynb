{
 "cells": [
  {
   "cell_type": "markdown",
   "id": "013dfdef",
   "metadata": {},
   "source": [
    "# OPERADORES Y EXPRESIONES\n"
   ]
  },
  {
   "cell_type": "markdown",
   "id": "67f4ac51",
   "metadata": {},
   "source": [
    "## Calcular el área de un triángulo"
   ]
  },
  {
   "cell_type": "code",
   "execution_count": 1,
   "id": "4a883352",
   "metadata": {},
   "outputs": [
    {
     "name": "stdout",
     "output_type": "stream",
     "text": [
      "Área del triángulo: 30.0\n"
     ]
    }
   ],
   "source": [
    "# Área de un triángulo\n",
    "base = 10       # Base en unidades\n",
    "altura = 6      # Altura en unidades\n",
    "\n",
    "# Fórmula: área = (base * altura) / 2\n",
    "area_triangulo = (base * altura) / 2\n",
    "\n",
    "print(\"Área del triángulo:\", area_triangulo)\n"
   ]
  },
  {
   "cell_type": "markdown",
   "id": "7dae2f78",
   "metadata": {},
   "source": [
    "## Verificar si un número es múltiplo de otro"
   ]
  },
  {
   "cell_type": "code",
   "execution_count": 2,
   "id": "c0d0ac6d",
   "metadata": {},
   "outputs": [
    {
     "name": "stdout",
     "output_type": "stream",
     "text": [
      "24 es múltiplo de 6\n"
     ]
    }
   ],
   "source": [
    "numero = 24\n",
    "divisor = 6\n",
    "\n",
    "# Verificamos si el residuo de la división es 0\n",
    "if numero % divisor == 0:\n",
    "    print(numero, \"es múltiplo de\", divisor)\n",
    "else:\n",
    "    print(numero, \"NO es múltiplo de\", divisor)\n"
   ]
  },
  {
   "cell_type": "markdown",
   "id": "14542d13",
   "metadata": {},
   "source": [
    "## Revisar si una persona es mayor de edad y si además tiene INE"
   ]
  },
  {
   "cell_type": "code",
   "execution_count": 3,
   "id": "7edac3b4",
   "metadata": {},
   "outputs": [
    {
     "name": "stdout",
     "output_type": "stream",
     "text": [
      "La persona puede votar\n"
     ]
    }
   ],
   "source": [
    "edad = 20\n",
    "tiene_INE = True  # True si tiene credencial de elector\n",
    "\n",
    "# Condición: debe ser mayor o igual a 18 y tener INE\n",
    "if edad >= 18 and tiene_INE:\n",
    "    print(\"La persona puede votar\")\n",
    "else:\n",
    "    print(\"La persona NO puede votar\")\n"
   ]
  },
  {
   "cell_type": "markdown",
   "id": "9ff5ef75",
   "metadata": {},
   "source": [
    "## Comprobar si un número está dentro de un rango"
   ]
  },
  {
   "cell_type": "code",
   "execution_count": 4,
   "id": "20bbabdf",
   "metadata": {},
   "outputs": [
    {
     "name": "stdout",
     "output_type": "stream",
     "text": [
      "15 está en el rango 10-20\n"
     ]
    }
   ],
   "source": [
    "num = 15\n",
    "\n",
    "# Verificamos si el número está entre 10 y 20 inclusive\n",
    "if num >= 10 and num <= 20:\n",
    "    print(num, \"está en el rango 10-20\")\n",
    "else:\n",
    "    print(num, \"NO está en el rango 10-20\")\n"
   ]
  },
  {
   "cell_type": "markdown",
   "id": "8286bed6",
   "metadata": {},
   "source": [
    "## Resolver una expresión compuesta"
   ]
  },
  {
   "cell_type": "code",
   "execution_count": 5,
   "id": "940a4907",
   "metadata": {},
   "outputs": [
    {
     "name": "stdout",
     "output_type": "stream",
     "text": [
      "Resultado de la expresión: True\n"
     ]
    }
   ],
   "source": [
    "# Expresión: (5 + 3) * 2 > 10 and not (4 == 5)\n",
    "# Paso a paso: (5+3)*2=16, 16>10 → True, 4==5 → False, not(False) → True\n",
    "# True and True → True\n",
    "resultado = (5 + 3) * 2 > 10 and not (4 == 5)\n",
    "\n",
    "print(\"Resultado de la expresión:\", resultado)\n"
   ]
  }
 ],
 "metadata": {
  "kernelspec": {
   "display_name": "Python 3",
   "language": "python",
   "name": "python3"
  },
  "language_info": {
   "codemirror_mode": {
    "name": "ipython",
    "version": 3
   },
   "file_extension": ".py",
   "mimetype": "text/x-python",
   "name": "python",
   "nbconvert_exporter": "python",
   "pygments_lexer": "ipython3",
   "version": "3.13.7"
  }
 },
 "nbformat": 4,
 "nbformat_minor": 5
}

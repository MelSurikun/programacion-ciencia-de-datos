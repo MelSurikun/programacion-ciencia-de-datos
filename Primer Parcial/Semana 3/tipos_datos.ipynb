{
 "cells": [
  {
   "cell_type": "markdown",
   "id": "3b7a155e",
   "metadata": {},
   "source": [
    "# Tipos de datos"
   ]
  },
  {
   "cell_type": "markdown",
   "id": "5400fc2d",
   "metadata": {},
   "source": [
    "## Convertir string a entero\n"
   ]
  },
  {
   "cell_type": "code",
   "execution_count": 1,
   "id": "d40746a6",
   "metadata": {},
   "outputs": [
    {
     "name": "stdout",
     "output_type": "stream",
     "text": [
      "50 <class 'int'>\n"
     ]
    }
   ],
   "source": [
    "texto_num = \"50\"\n",
    "numero = int(texto_num)  # Convertimos el string \"50\" a número entero\n",
    "print(numero, type(numero))  # Mostramos 50 y confirmamos que es int\n"
   ]
  },
  {
   "cell_type": "markdown",
   "id": "7752e8ff",
   "metadata": {},
   "source": [
    "## Convertir entero a string\n"
   ]
  },
  {
   "cell_type": "code",
   "execution_count": 2,
   "id": "a1d570e0",
   "metadata": {},
   "outputs": [
    {
     "name": "stdout",
     "output_type": "stream",
     "text": [
      "25 <class 'str'>\n"
     ]
    }
   ],
   "source": [
    "edad = 25\n",
    "edad_str = str(edad)  # Convertimos el número 25 a string \"25\"\n",
    "print(edad_str, type(edad_str))  # Mostramos \"25\" y confirmamos que es str\n"
   ]
  },
  {
   "cell_type": "markdown",
   "id": "cc916869",
   "metadata": {},
   "source": [
    "## Convertir string a float"
   ]
  },
  {
   "cell_type": "code",
   "execution_count": 3,
   "id": "4f88b4be",
   "metadata": {},
   "outputs": [
    {
     "name": "stdout",
     "output_type": "stream",
     "text": [
      "99.99 <class 'float'>\n"
     ]
    }
   ],
   "source": [
    "precio_texto = \"99.99\"\n",
    "precio = float(precio_texto)  # Convertimos el string \"99.99\" a número decimal (float)\n",
    "print(precio, type(precio))  # Mostramos 99.99 y confirmamos que es float\n"
   ]
  }
 ],
 "metadata": {
  "kernelspec": {
   "display_name": "Python 3",
   "language": "python",
   "name": "python3"
  },
  "language_info": {
   "codemirror_mode": {
    "name": "ipython",
    "version": 3
   },
   "file_extension": ".py",
   "mimetype": "text/x-python",
   "name": "python",
   "nbconvert_exporter": "python",
   "pygments_lexer": "ipython3",
   "version": "3.13.7"
  }
 },
 "nbformat": 4,
 "nbformat_minor": 5
}

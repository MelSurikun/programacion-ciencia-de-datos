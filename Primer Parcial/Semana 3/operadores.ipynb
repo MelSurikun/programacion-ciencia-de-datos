{
 "cells": [
  {
   "cell_type": "markdown",
   "id": "a9cbf2bb",
   "metadata": {},
   "source": []
  },
  {
   "cell_type": "markdown",
   "id": "a5c59a9d",
   "metadata": {},
   "source": [
    "\n",
    "# OPERACIONES EN PYTHON"
   ]
  },
  {
   "cell_type": "markdown",
   "id": "c4790c36",
   "metadata": {},
   "source": [
    "## Area de un rectangulo\n"
   ]
  },
  {
   "cell_type": "code",
   "execution_count": 7,
   "id": "076415dd",
   "metadata": {},
   "outputs": [
    {
     "name": "stdout",
     "output_type": "stream",
     "text": [
      "Área del triángulo: 60.0\n"
     ]
    }
   ],
   "source": [
    "# 1️⃣ Definir la base del triángulo\n",
    "base = 20  # La longitud de la base en unidades\n",
    "\n",
    "# 2️⃣ Definir la altura del triángulo\n",
    "altura = 6  # La altura en unidades\n",
    "\n",
    "# 3️⃣ Calcular el área del triángulo\n",
    "# Fórmula: área = (base * altura) / 2\n",
    "area_triangulo = (base * altura) / 2\n",
    "\n",
    "# 4️⃣ Mostrar el resultado en pantalla\n",
    "print(\"Área del triángulo:\", area_triangulo)\n"
   ]
  },
  {
   "cell_type": "markdown",
   "id": "1b02e769",
   "metadata": {},
   "source": [
    "## Verificar múltiplo\n"
   ]
  },
  {
   "cell_type": "code",
   "execution_count": 8,
   "id": "b04e7ca1",
   "metadata": {},
   "outputs": [
    {
     "name": "stdout",
     "output_type": "stream",
     "text": [
      "24 es múltiplo de 6\n"
     ]
    }
   ],
   "source": [
    "# 1️⃣ Definir el número a evaluar\n",
    "numero = 24  # Número que vamos a comprobar si es múltiplo de 6\n",
    "\n",
    "# 2️⃣ Comprobar si es múltiplo de 6\n",
    "# La condición numero % 6 == 0 verifica si el residuo al dividir entre 6 es cero\n",
    "if numero % 6 == 0:\n",
    "    # Si el residuo es 0 → es múltiplo de 6\n",
    "    print(numero, \"es múltiplo de 6\")\n",
    "else:\n",
    "    # Si el residuo NO es 0 → NO es múltiplo de 6\n",
    "    print(numero, \"NO es múltiplo de 6\")"
   ]
  },
  {
   "cell_type": "markdown",
   "id": "08dfd253",
   "metadata": {},
   "source": [
    "## Mayor de edad con INE\n"
   ]
  },
  {
   "cell_type": "code",
   "execution_count": 9,
   "id": "8aeb1f3b",
   "metadata": {},
   "outputs": [
    {
     "name": "stdout",
     "output_type": "stream",
     "text": [
      "La persona puede votar\n"
     ]
    }
   ],
   "source": [
    "# 1️⃣ Definir la edad de la persona\n",
    "edad = 20  # Edad de la persona en años\n",
    "\n",
    "# 2️⃣ Definir si la persona tiene INE\n",
    "tiene_INE = True  # True si tiene credencial de elector, False si no\n",
    "\n",
    "# 3️⃣ Verificar si puede votar\n",
    "# Condición: debe ser mayor o igual a 18 y tener INE\n",
    "if edad >= 18 and tiene_INE:\n",
    "    # Si ambas condiciones son verdaderas → puede votar\n",
    "    print(\"La persona puede votar\")\n",
    "else:\n",
    "    # Si alguna condición es falsa → no puede votar\n",
    "    print(\"La persona NO puede votar\")\n"
   ]
  },
  {
   "cell_type": "markdown",
   "id": "b7b3d305",
   "metadata": {},
   "source": [
    "## Número en rango"
   ]
  },
  {
   "cell_type": "code",
   "execution_count": 10,
   "id": "352508aa",
   "metadata": {},
   "outputs": [
    {
     "name": "stdout",
     "output_type": "stream",
     "text": [
      "15 está en el rango 10-20\n"
     ]
    }
   ],
   "source": [
    "# 1️⃣ Definir el número a evaluar\n",
    "num = 15  # Número que vamos a comprobar si está en el rango 10-20\n",
    "\n",
    "# 2️⃣ Verificar si el número está en el rango 10-20\n",
    "# La condición num >= 10 and num <= 20 asegura que num sea mayor o igual a 10 y menor o igual a 20\n",
    "if num >= 10 and num <= 20:\n",
    "    # Si la condición es verdadera → está dentro del rango\n",
    "    print(num, \"está en el rango 10-20\")\n",
    "else:\n",
    "    # Si la condición es falsa → NO está dentro del rango\n",
    "    print(num, \"NO está en el rango 10-20\")\n"
   ]
  },
  {
   "cell_type": "markdown",
   "id": "1765bcdf",
   "metadata": {},
   "source": [
    "## Expresión compuesta"
   ]
  },
  {
   "cell_type": "code",
   "execution_count": 11,
   "id": "a4c26ad0",
   "metadata": {},
   "outputs": [
    {
     "name": "stdout",
     "output_type": "stream",
     "text": [
      "Resultado de la expresión: True\n"
     ]
    }
   ],
   "source": [
    "# 1️⃣ Evaluar la expresión\n",
    "# La expresión es: (5 + 3) * 2 > 10 and not (4 == 5)\n",
    "\n",
    "# Paso a paso:\n",
    "# (5 + 3) * 2 = 8 * 2 = 16\n",
    "# 16 > 10 → True\n",
    "# (4 == 5) → False, entonces not (4 == 5) → True\n",
    "# True and True → True\n",
    "\n",
    "resultado = (5 + 3) * 2 > 10 and not (4 == 5)\n",
    "\n",
    "# 2️⃣ Mostrar el resultado\n",
    "print(\"Resultado de la expresión:\", resultado)\n"
   ]
  }
 ],
 "metadata": {
  "kernelspec": {
   "display_name": "Python 3",
   "language": "python",
   "name": "python3"
  },
  "language_info": {
   "codemirror_mode": {
    "name": "ipython",
    "version": 3
   },
   "file_extension": ".py",
   "mimetype": "text/x-python",
   "name": "python",
   "nbconvert_exporter": "python",
   "pygments_lexer": "ipython3",
   "version": "3.13.7"
  }
 },
 "nbformat": 4,
 "nbformat_minor": 5
}

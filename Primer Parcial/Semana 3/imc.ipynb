{
 "cells": [
  {
   "cell_type": "markdown",
   "id": "b2a9a4f0",
   "metadata": {},
   "source": [
    "# CALCULO DE IMC EN PYTHON"
   ]
  },
  {
   "cell_type": "code",
   "execution_count": 4,
   "id": "1f62bc23",
   "metadata": {},
   "outputs": [
    {
     "name": "stdout",
     "output_type": "stream",
     "text": [
      "\n",
      "Tu IMC es: 21.13\n",
      "Clasificación: Peso normal\n"
     ]
    }
   ],
   "source": [
    "# ==========================================\n",
    "#         CÁLCULO DEL IMC EN PYTHON\n",
    "# ==========================================\n",
    "\n",
    "# 1️⃣ Pedir datos al usuario\n",
    "try:\n",
    "    # Solicita el peso en kilogramos y lo convierte a float\n",
    "    peso = float(input(\"Ingresa tu peso en kg: \"))\n",
    "\n",
    "    # Solicita la altura en metros y lo convierte a float\n",
    "    altura = float(input(\"Ingresa tu estatura en metros: \"))\n",
    "\n",
    "    # 2️⃣ Calcular el IMC\n",
    "    # Fórmula: IMC = peso / (altura^2)\n",
    "    imc = peso / (altura ** 2)\n",
    "\n",
    "    # 3️⃣ Mostrar el resultado del IMC\n",
    "    # round(imc, 2) redondea el valor a 2 decimales\n",
    "    print(f\"\\nTu IMC es: {round(imc, 2)}\")\n",
    "\n",
    "    # 4️⃣ Clasificar el IMC según los rangos estándar\n",
    "    if imc < 18.5:\n",
    "        print(\"Clasificación: Bajo peso\")\n",
    "    elif 18.5 <= imc < 25:\n",
    "        print(\"Clasificación: Peso normal\")\n",
    "    elif 25 <= imc < 30:\n",
    "        print(\"Clasificación: Sobrepeso\")\n",
    "    else:\n",
    "        print(\"Clasificación: Obesidad\")\n",
    "\n",
    "except ValueError:\n",
    "    print(\"Error: Por favor ingresa números válidos para peso y altura.\")\n"
   ]
  },
  {
   "cell_type": "markdown",
   "id": "a94a6f82",
   "metadata": {},
   "source": [
    "### EJEMPLO\n",
    "Poniendo de altura 1.82.<br>\n",
    "de peso 70 kg.<br>\n",
    "el resultado es 21.13.<br>\n",
    "clasficiacion: peso normal."
   ]
  }
 ],
 "metadata": {
  "kernelspec": {
   "display_name": "Python 3",
   "language": "python",
   "name": "python3"
  },
  "language_info": {
   "codemirror_mode": {
    "name": "ipython",
    "version": 3
   },
   "file_extension": ".py",
   "mimetype": "text/x-python",
   "name": "python",
   "nbconvert_exporter": "python",
   "pygments_lexer": "ipython3",
   "version": "3.13.7"
  }
 },
 "nbformat": 4,
 "nbformat_minor": 5
}
